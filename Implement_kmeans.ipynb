{
  "nbformat": 4,
  "nbformat_minor": 0,
  "metadata": {
    "colab": {
      "name": "Implement kmeans.ipynb",
      "provenance": [],
      "toc_visible": true
    },
    "kernelspec": {
      "name": "python3",
      "display_name": "Python 3"
    }
  },
  "cells": [
    {
      "cell_type": "code",
      "metadata": {
        "id": "kgIaP-vwHvlc"
      },
      "source": [
        "import numpy as np\n",
        "import matplotlib.pyplot as plt\n",
        "import sklearn\n",
        "import sklearn.datasets\n",
        "import sklearn.linear_model\n",
        "from sklearn.model_selection import train_test_split\n",
        "import pandas as pd"
      ],
      "execution_count": null,
      "outputs": []
    },
    {
      "cell_type": "code",
      "metadata": {
        "id": "EOvKeDARmMuy",
        "colab": {
          "base_uri": "https://localhost:8080/",
          "height": 282
        },
        "outputId": "f8de7e8f-393d-4a32-e255-aa820df1957a"
      },
      "source": [
        "# generate dataset\n",
        "X, y = sklearn.datasets.make_blobs(n_samples=100, n_features=2, random_state=3)\n",
        "plt.scatter(x=X[:, 0], y=X[:, 1], cmap=plt.cm.Spectral)"
      ],
      "execution_count": null,
      "outputs": [
        {
          "output_type": "execute_result",
          "data": {
            "text/plain": [
              "<matplotlib.collections.PathCollection at 0x7f5d2190d9e8>"
            ]
          },
          "metadata": {
            "tags": []
          },
          "execution_count": 3
        },
        {
          "output_type": "display_data",
          "data": {
            "image/png": "[encoded data removed]",
            "text/plain": [
              "<Figure size 432x288 with 1 Axes>"
            ]
          },
          "metadata": {
            "tags": [],
            "needs_background": "light"
          }
        }
      ]
    },
    {
      "cell_type": "code",
      "metadata": {
        "id": "rQZp-1Xn249y"
      },
      "source": [
        "X = pd.DataFrame(X)"
      ],
      "execution_count": null,
      "outputs": []
    },
    {
      "cell_type": "code",
      "metadata": {
        "id": "qQv35ZSZwmrz"
      },
      "source": [
        "#assign each point its closest centroids \n",
        "def clustering(centroids, X):\n",
        "  cluster = []\n",
        "  for i in range(n_samples):\n",
        "    distances = []\n",
        "\n",
        "    # calculate the distance between a point to all k centroids, find the closest centroids\n",
        "    for j in range(len(centroids)):\n",
        "      distance_j = np.sqrt((X.iloc[i][0] - centroids.iloc[j][0]) ** 2 + (X.iloc[i][1] - centroids.iloc[j][1]) ** 2)\n",
        "      distances.append((distance_j, j))\n",
        "      sorted_d = sorted(distances)\n",
        "    cluster.append(sorted_d[0][1])\n",
        "\n",
        "  df_cluster = pd.DataFrame(data=cluster, columns=['cluster'])\n",
        "  new_X = pd.concat([X, df_cluster], axis=1)\n",
        "  return new_X"
      ],
      "execution_count": null,
      "outputs": []
    },
    {
      "cell_type": "code",
      "metadata": {
        "id": "xmZ8YesX-LER"
      },
      "source": [
        "def k_means(X, k, iters):\n",
        "  # random initialize k centroids\n",
        "  n_samples = len(X)\n",
        "  np.random.seed(3)\n",
        "  centroids = X.loc[np.random.randint(0, n_samples, k)]\n",
        "  cost_history = []\n",
        "\n",
        "  for i in range(iters):\n",
        "    X_cluster = clustering(centroids, X)\n",
        "    # calculate cost: sum of Eucliean distance between each point and the its centroid\n",
        "    cost = 0\n",
        "    for j in range(n_samples):\n",
        "      clu = int(X_cluster.iloc[j]['cluster'])\n",
        "      cost += np.sqrt((X_cluster.iloc[j][0] - centroids.iloc[clu][0])**2 + (X_cluster.iloc[j][1] - centroids.iloc[clu][1])**2)\n",
        "    cost_history.append(cost)\n",
        "\n",
        "    # update centroid\n",
        "    centroids = X_cluster.groupby(['cluster']).mean()\n",
        "  \n",
        "  plt.scatter(x=X_cluster[0], y=X_cluster[1], c=X_cluster['cluster'])\n",
        "  plt.scatter(x=centroids[0], y=centroids[1])\n",
        "  return X_cluster, cost_history"
      ],
      "execution_count": null,
      "outputs": []
    },
    {
      "cell_type": "code",
      "metadata": {
        "id": "re5hiaLC9kHV",
        "colab": {
          "base_uri": "https://localhost:8080/",
          "height": 265
        },
        "outputId": "aa11cf26-5840-4de4-d86d-7fe8f3cb4659"
      },
      "source": [
        "X_cluster, cost_history = k_means(X, k=3, iters=10)"
      ],
      "execution_count": null,
      "outputs": [
        {
          "output_type": "display_data",
          "data": {
            "image/png": "[encoded data removed]",
            "text/plain": [
              "<Figure size 432x288 with 1 Axes>"
            ]
          },
          "metadata": {
            "tags": [],
            "needs_background": "light"
          }
        }
      ]
    },
    {
      "cell_type": "code",
      "metadata": {
        "id": "-4yHPrKg5DX3",
        "colab": {
          "base_uri": "https://localhost:8080/",
          "height": 282
        },
        "outputId": "970c9cfd-fe64-4b1d-b524-65d56aa83e4e"
      },
      "source": [
        "plt.plot(np.arange(10), cost_history)"
      ],
      "execution_count": null,
      "outputs": [
        {
          "output_type": "execute_result",
          "data": {
            "text/plain": [
              "[<matplotlib.lines.Line2D at 0x7f5d21396198>]"
            ]
          },
          "metadata": {
            "tags": []
          },
          "execution_count": 116
        },
        {
          "output_type": "display_data",
          "data": {
            "image/png": "[encoded data removed]",
            "text/plain": [
              "<Figure size 432x288 with 1 Axes>"
            ]
          },
          "metadata": {
            "tags": [],
            "needs_background": "light"
          }
        }
      ]
    },
    {
      "cell_type": "code",
      "metadata": {
        "id": "NtyDuy2eAG2U",
        "colab": {
          "base_uri": "https://localhost:8080/",
          "height": 187
        },
        "outputId": "be6a26fe-e4e7-4c80-93cf-788558fe3338"
      },
      "source": [
        "cost_history"
      ],
      "execution_count": null,
      "outputs": [
        {
          "output_type": "execute_result",
          "data": {
            "text/plain": [
              "[663.7787970572543,\n",
              " 307.26890258823977,\n",
              " 292.83440315954294,\n",
              " 264.8575646794877,\n",
              " 152.18657215154917,\n",
              " 119.902708903458,\n",
              " 119.902708903458,\n",
              " 119.902708903458,\n",
              " 119.902708903458,\n",
              " 119.902708903458]"
            ]
          },
          "metadata": {
            "tags": []
          },
          "execution_count": 119
        }
      ]
    },
    {
      "cell_type": "code",
      "metadata": {
        "id": "GJFMnqW4AUzP"
      },
      "source": [
        ""
      ],
      "execution_count": null,
      "outputs": []
    }
  ]
}