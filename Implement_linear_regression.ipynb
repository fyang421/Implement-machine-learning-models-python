{
  "nbformat": 4,
  "nbformat_minor": 0,
  "metadata": {
    "colab": {
      "name": "Implement linear regression.ipynb",
      "provenance": []
    },
    "kernelspec": {
      "name": "python3",
      "display_name": "Python 3"
    }
  },
  "cells": [
    {
      "cell_type": "code",
      "metadata": {
        "id": "qgSuiTq-3cHi"
      },
      "source": [
        "import numpy as np\n",
        "import matplotlib.pyplot as plt"
      ],
      "execution_count": 1,
      "outputs": []
    },
    {
      "cell_type": "code",
      "metadata": {
        "id": "dNan-ZHk3eHT"
      },
      "source": [
        "def predict(model, X):\n",
        "  W, b = model['W'], model['b']\n",
        "  yhat = np.dot(X, W) + b\n",
        "  return yhat\n",
        "\n",
        "def cost_function(y, yhat, num_examples):\n",
        "  return (1/num_examples) * np.sum((y - yhat)**2) \n",
        "\n",
        "def linear_regression(X, y, lr, iters):\n",
        "  num_examples = len(X)\n",
        "  \n",
        "  # Initialize W, b\n",
        "  W = np.zeros((X.shape[1], 1))\n",
        "  b = 0\n",
        "  model = {'W': W, 'b': b}\n",
        "\n",
        "  cost_history = []\n",
        "  for i in range(iters):\n",
        "    # forward prop\n",
        "    yhat = predict(model, X)\n",
        "    cost = cost_function(y, yhat, num_examples)\n",
        "    cost_history.append(cost)\n",
        "\n",
        "    # backward prop\n",
        "    dW = (2/num_examples) * np.dot(X.T, (yhat - y))\n",
        "    db = np.sum((2/num_examples) * (yhat - y), axis=0, keepdims=False)\n",
        "    W -= lr * dW\n",
        "    b -= lr * db\n",
        "\n",
        "    model = {'W': W, 'b': b}\n",
        "\n",
        "    if i % 100 == 0:\n",
        "      print('current iter: ' + str(i) + ' current cost: ' + str(cost))\n",
        "  return model, cost_history"
      ],
      "execution_count": 6,
      "outputs": []
    },
    {
      "cell_type": "code",
      "metadata": {
        "colab": {
          "base_uri": "https://localhost:8080/"
        },
        "id": "2tIEJvUo3hQP",
        "outputId": "52fc6074-59bb-4114-e879-c8d852454fa4"
      },
      "source": [
        "# generate dataset\n",
        "import sklearn.datasets\n",
        "X, y = sklearn.datasets.make_regression(200, 5, noise=30)\n",
        "y = y.reshape(200, 1)\n",
        "\n",
        "model, cost_history = linear_regression(X, y, lr=0.005, iters=1000)"
      ],
      "execution_count": 7,
      "outputs": [
        {
          "output_type": "stream",
          "text": [
            "current iter: 0 current cost: 23137.54892263812\n",
            "current iter: 100 current cost: 3668.570631717392\n",
            "current iter: 200 current cost: 1225.2386236343498\n",
            "current iter: 300 current cost: 892.3802305605375\n",
            "current iter: 400 current cost: 843.2148227837371\n",
            "current iter: 500 current cost: 835.4224896632476\n",
            "current iter: 600 current cost: 834.1172897880552\n",
            "current iter: 700 current cost: 833.8897055063354\n",
            "current iter: 800 current cost: 833.8488930503019\n",
            "current iter: 900 current cost: 833.8414306607161\n"
          ],
          "name": "stdout"
        }
      ]
    },
    {
      "cell_type": "code",
      "metadata": {
        "colab": {
          "base_uri": "https://localhost:8080/",
          "height": 282
        },
        "id": "WVNofT8Q3j3g",
        "outputId": "bb3b2869-aa3b-4f45-cde7-b63a0baac953"
      },
      "source": [
        "plt.plot(cost_history)"
      ],
      "execution_count": 8,
      "outputs": [
        {
          "output_type": "execute_result",
          "data": {
            "text/plain": [
              "[<matplotlib.lines.Line2D at 0x7f65f6da8898>]"
            ]
          },
          "metadata": {
            "tags": []
          },
          "execution_count": 8
        },
        {
          "output_type": "display_data",
          "data": {
            "image/png": "[encoded data removed]",
            "text/plain": [
              "<Figure size 432x288 with 1 Axes>"
            ]
          },
          "metadata": {
            "tags": [],
            "needs_background": "light"
          }
        }
      ]
    },
    {
      "cell_type": "code",
      "metadata": {
        "id": "KwzP1lKy4HDT"
      },
      "source": [
        ""
      ],
      "execution_count": null,
      "outputs": []
    }
  ]
}